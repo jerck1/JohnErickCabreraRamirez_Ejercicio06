{
 "cells": [
  {
   "cell_type": "code",
   "execution_count": 1,
   "metadata": {},
   "outputs": [],
   "source": [
    "import numpy as np\n",
    "import pandas as pd\n",
    "import matplotlib.pyplot as plt"
   ]
  },
  {
   "cell_type": "code",
   "execution_count": 2,
   "metadata": {},
   "outputs": [],
   "source": [
    "x =np.array([4.6, 6.0, 2.0, 5.8])\n",
    "sigma =np.array([2.0, 1.5, 5.0, 1.0])"
   ]
  },
  {
   "cell_type": "code",
   "execution_count": 3,
   "metadata": {},
   "outputs": [],
   "source": [
    "def P(mu):\n",
    "    return 1/(np.max(mu)-np.min(mu))"
   ]
  },
  {
   "cell_type": "code",
   "execution_count": 4,
   "metadata": {},
   "outputs": [],
   "source": [
    "def P_gauss(xk,mu,sigk):\n",
    "    return np.exp(-(xk-mu)**2/(2*sigk**2))"
   ]
  },
  {
   "cell_type": "code",
   "execution_count": 22,
   "metadata": {},
   "outputs": [],
   "source": [
    "def log_P_x_sig_mu(x,mu,sig):\n",
    "    sum=0\n",
    "    for i in range(len(x)):\n",
    "        sum+=np.log(P_gauss(x[i],mu,sig[i]))\n",
    "    return sum"
   ]
  },
  {
   "cell_type": "code",
   "execution_count": null,
   "metadata": {},
   "outputs": [],
   "source": [
    "def log_P_x_sig(x,mu,sig):\n",
    "    sum=0\n",
    "    for i in range(len(mu)):\n",
    "        sum+=log_P_x_sig_mu(x,mu,sig)\n",
    "    return sum"
   ]
  },
  {
   "cell_type": "code",
   "execution_count": 25,
   "metadata": {},
   "outputs": [],
   "source": [
    "def L_P_mu_x_sig(x,mu,sig):#,i):\n",
    "    return log_P_x_sig_mu(x,mu,sig)#+log_P_x_sig_mu(x,mu,sig,i)+np.log(P(mu))"
   ]
  },
  {
   "cell_type": "code",
   "execution_count": 24,
   "metadata": {},
   "outputs": [],
   "source": [
    "mu=np.arange(0,10,1)\n",
    "n=np.arange(0,len(x),1)"
   ]
  },
  {
   "cell_type": "code",
   "execution_count": 27,
   "metadata": {},
   "outputs": [
    {
     "name": "stdout",
     "output_type": "stream",
     "text": [
      "[-27.545      -18.71555556 -11.62055556  -6.26        -2.63388889\n",
      "  -0.74222222  -0.585       -2.16222222  -5.47388889 -10.52      ]\n"
     ]
    }
   ],
   "source": [
    "y=L_P_mu_x_sig(x,mu,sigma)\n",
    "print(y)\n",
    "#log_P_x_sig_mu(x,mu,sigma,0)\n",
    "#np.log(P(mu))\n",
    "#log_P_x_sig_mu(x,mu,sigma,0)"
   ]
  },
  {
   "cell_type": "code",
   "execution_count": 28,
   "metadata": {},
   "outputs": [
    {
     "data": {
      "text/plain": [
       "<matplotlib.collections.PathCollection at 0x7f60ffc3b710>"
      ]
     },
     "execution_count": 28,
     "metadata": {},
     "output_type": "execute_result"
    },
    {
     "data": {
      "image/png": "[encoded data removed]",
      "text/plain": [
       "<Figure size 576x576 with 1 Axes>"
      ]
     },
     "metadata": {
      "needs_background": "light"
     },
     "output_type": "display_data"
    }
   ],
   "source": [
    "plt.figure(figsize=(8,8))\n",
    "plt.plot(mu,y)\n",
    "plt.scatter(mu,y)\n",
    "#plt.xlabel(\"H\")\n",
    "#plt.ylabel('P(H|obs)')"
   ]
  },
  {
   "cell_type": "code",
   "execution_count": 14,
   "metadata": {},
   "outputs": [
    {
     "data": {
      "text/plain": [
       "array([0, 1, 2, 3])"
      ]
     },
     "execution_count": 14,
     "metadata": {},
     "output_type": "execute_result"
    }
   ],
   "source": [
    "n"
   ]
  },
  {
   "cell_type": "code",
   "execution_count": null,
   "metadata": {},
   "outputs": [],
   "source": []
  }
 ],
 "metadata": {
  "kernelspec": {
   "display_name": "Python 3",
   "language": "python",
   "name": "python3"
  },
  "language_info": {
   "codemirror_mode": {
    "name": "ipython",
    "version": 3
   },
   "file_extension": ".py",
   "mimetype": "text/x-python",
   "name": "python",
   "nbconvert_exporter": "python",
   "pygments_lexer": "ipython3",
   "version": "3.7.4"
  }
 },
 "nbformat": 4,
 "nbformat_minor": 2
}
